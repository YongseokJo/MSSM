{
 "cells": [
  {
   "cell_type": "code",
   "execution_count": 2,
   "metadata": {},
   "outputs": [],
   "source": [
    "import h5py\n",
    "import numpy as np\n",
    "import matplotlib.pyplot as plt\n",
    "%run 'FindMassRatio.ipynb'"
   ]
  },
  {
   "cell_type": "code",
   "execution_count": null,
   "metadata": {
    "tags": []
   },
   "outputs": [],
   "source": [
    "##\n",
    "num_files    = 20 # the number of tree files\n",
    "num_features = 3. # the number of features \n",
    "fpath        = \"/home/kerex/machine_learning/illustris/data/tng\" # path for your tree files\n",
    "data = np.zeros((1,num_features)) # data placeholder\n",
    "for i in range(num_files): \n",
    "    with h5py.File(\"{}/tree_extended.{}.hdf5\".format(fpath, i), \"r\") as f:\n",
    "        print(\"File\",i)\n",
    "        snap = np.array(f['SnapNum'])\n",
    "        index=np.where(snap==99)[0] ## 99 for z = 0\n",
    "        \n",
    "        #dm_mass = np.array(f['SubhaloMassType'][:,1])[index]\n",
    "        #vel_disp = np.array(f['SubhaloVelDisp'])[index]\n",
    "        #vel_max = np.array(f['SubhaloVmax'])[index]\n",
    "\n",
    "        # If you need only merger trees, then this will do.\n",
    "        total_merger_count, merger_mass_ratio, major_merger_count\\\n",
    "            = get_major_merger_count(f, index)\n",
    "       \n",
    "        #sfr = np.array(f['SubhaloSFR'])[index]\n",
    "        #gas_mass = np.array(f['SubhaloMassType'][:,0])[index]\n",
    "        #bh_mass = np.array(f['SubhaloBHMass'])[index]\n",
    "        #metal = np.array(f['SubhaloGasMetallicity'])[index]\n",
    "        #star_mass = np.array(f['SubhaloMassType'][:,4])[index]\n",
    "\n",
    "        data_t = np.c_[total_merger_count, merger_mass_ratio, major_merger_count]\n",
    "        \n",
    "        #data_t = np.c_[dm_mass, vel_disp, vel_max,\n",
    "        #               total_merger_count, merger_mass_ratio, major_merger_count,\n",
    "        #               sfr, gas_mass, bh_mass, metal, star_mass]\n",
    "    data = np.r_[data,data_t]\n",
    "    del data_t\n",
    "data = data[1:,:]    ## remove zeros \n",
    "print(data.shape)"
   ]
  }
 ],
 "metadata": {
  "kernelspec": {
   "display_name": "Python 3 (ipykernel)",
   "language": "python",
   "name": "python3"
  },
  "language_info": {
   "codemirror_mode": {
    "name": "ipython",
    "version": 3
   },
   "file_extension": ".py",
   "mimetype": "text/x-python",
   "name": "python",
   "nbconvert_exporter": "python",
   "pygments_lexer": "ipython3",
   "version": "3.9.12"
  }
 },
 "nbformat": 4,
 "nbformat_minor": 4
}
