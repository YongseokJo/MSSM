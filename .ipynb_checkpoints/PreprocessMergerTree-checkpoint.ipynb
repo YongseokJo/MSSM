{
 "cells": [
  {
   "cell_type": "code",
   "execution_count": 2,
   "metadata": {},
   "outputs": [],
   "source": [
    "import h5py\n",
    "import numpy as np\n",
    "import matplotlib.pyplot as plt\n",
    "%run 'FindMassRatio.ipynb'"
   ]
  },
  {
   "cell_type": "code",
   "execution_count": 3,
   "metadata": {
    "collapsed": true,
    "jupyter": {
     "outputs_hidden": true
    }
   },
   "outputs": [
    {
     "name": "stdout",
     "output_type": "stream",
     "text": [
      "File 0\n"
     ]
    },
    {
     "ename": "KeyboardInterrupt",
     "evalue": "",
     "output_type": "error",
     "traceback": [
      "\u001b[0;31m---------------------------------------------------------------------------\u001b[0m",
      "\u001b[0;31mKeyboardInterrupt\u001b[0m                         Traceback (most recent call last)",
      "\u001b[0;32m<ipython-input-3-2bf0bb75a864>\u001b[0m in \u001b[0;36m<module>\u001b[0;34m()\u001b[0m\n\u001b[1;32m     66\u001b[0m         \u001b[0mvel_max\u001b[0m \u001b[0;34m=\u001b[0m \u001b[0mnp\u001b[0m\u001b[0;34m.\u001b[0m\u001b[0marray\u001b[0m\u001b[0;34m(\u001b[0m\u001b[0mf\u001b[0m\u001b[0;34m[\u001b[0m\u001b[0;34m'SubhaloVmax'\u001b[0m\u001b[0;34m]\u001b[0m\u001b[0;34m)\u001b[0m\u001b[0;34m[\u001b[0m\u001b[0mindex\u001b[0m\u001b[0;34m]\u001b[0m\u001b[0;34m\u001b[0m\u001b[0m\n\u001b[1;32m     67\u001b[0m \u001b[0;34m\u001b[0m\u001b[0m\n\u001b[0;32m---> 68\u001b[0;31m         \u001b[0mtotal_merger_count\u001b[0m\u001b[0;34m,\u001b[0m \u001b[0mmerger_mass_ratio\u001b[0m\u001b[0;34m,\u001b[0m \u001b[0mmajor_merger_count\u001b[0m            \u001b[0;34m=\u001b[0m \u001b[0mget_major_merger_count\u001b[0m\u001b[0;34m(\u001b[0m\u001b[0mf\u001b[0m\u001b[0;34m,\u001b[0m \u001b[0mindex\u001b[0m\u001b[0;34m)\u001b[0m\u001b[0;34m\u001b[0m\u001b[0m\n\u001b[0m\u001b[1;32m     69\u001b[0m \u001b[0;34m\u001b[0m\u001b[0m\n\u001b[1;32m     70\u001b[0m         \u001b[0msfr\u001b[0m \u001b[0;34m=\u001b[0m \u001b[0mnp\u001b[0m\u001b[0;34m.\u001b[0m\u001b[0marray\u001b[0m\u001b[0;34m(\u001b[0m\u001b[0mf\u001b[0m\u001b[0;34m[\u001b[0m\u001b[0;34m'SubhaloSFR'\u001b[0m\u001b[0;34m]\u001b[0m\u001b[0;34m)\u001b[0m\u001b[0;34m[\u001b[0m\u001b[0mindex\u001b[0m\u001b[0;34m]\u001b[0m\u001b[0;34m\u001b[0m\u001b[0m\n",
      "\u001b[0;32m<ipython-input-3-2bf0bb75a864>\u001b[0m in \u001b[0;36mget_major_merger_count\u001b[0;34m(f, index)\u001b[0m\n\u001b[1;32m     14\u001b[0m     \u001b[0;32mfor\u001b[0m \u001b[0mtemp\u001b[0m \u001b[0;32min\u001b[0m \u001b[0mindex\u001b[0m\u001b[0;34m:\u001b[0m\u001b[0;34m\u001b[0m\u001b[0m\n\u001b[1;32m     15\u001b[0m \u001b[0;34m\u001b[0m\u001b[0m\n\u001b[0;32m---> 16\u001b[0;31m         \u001b[0mfmr\u001b[0m\u001b[0;34m=\u001b[0m\u001b[0mFindMassRatio\u001b[0m\u001b[0;34m(\u001b[0m\u001b[0mtemp\u001b[0m\u001b[0;34m,\u001b[0m \u001b[0mhaloMass\u001b[0m\u001b[0;34m,\u001b[0m \u001b[0msnap\u001b[0m\u001b[0;34m,\u001b[0m \u001b[0mfirstprogenID\u001b[0m\u001b[0;34m,\u001b[0m \u001b[0mnextprogenID\u001b[0m\u001b[0;34m,\u001b[0m \u001b[0mnewID\u001b[0m\u001b[0;34m)\u001b[0m\u001b[0;34m\u001b[0m\u001b[0m\n\u001b[0m\u001b[1;32m     17\u001b[0m         \u001b[0mmass_ratio_t\u001b[0m\u001b[0;34m,\u001b[0m \u001b[0mmajor_merger\u001b[0m \u001b[0;34m=\u001b[0m \u001b[0mfmr\u001b[0m\u001b[0;34m.\u001b[0m\u001b[0mgetMassRatioHistory\u001b[0m\u001b[0;34m(\u001b[0m\u001b[0;34m)\u001b[0m\u001b[0;34m\u001b[0m\u001b[0m\n\u001b[1;32m     18\u001b[0m         \u001b[0mmass_ratio\u001b[0m\u001b[0;34m.\u001b[0m\u001b[0mappend\u001b[0m\u001b[0;34m(\u001b[0m\u001b[0mmass_ratio_t\u001b[0m\u001b[0;34m)\u001b[0m\u001b[0;34m\u001b[0m\u001b[0m\n",
      "\u001b[0;32m<ipython-input-2-123624f77661>\u001b[0m in \u001b[0;36m__init__\u001b[0;34m(self, haloIndex, halo_mass, snap, firstprogenID, nextprogenID, index)\u001b[0m\n\u001b[1;32m      8\u001b[0m         \u001b[0mself\u001b[0m\u001b[0;34m.\u001b[0m\u001b[0mnextprogenID\u001b[0m \u001b[0;34m=\u001b[0m \u001b[0mnextprogenID\u001b[0m\u001b[0;34m\u001b[0m\u001b[0m\n\u001b[1;32m      9\u001b[0m         \u001b[0mself\u001b[0m\u001b[0;34m.\u001b[0m\u001b[0mindex\u001b[0m \u001b[0;34m=\u001b[0m \u001b[0mindex\u001b[0m\u001b[0;34m\u001b[0m\u001b[0m\n\u001b[0;32m---> 10\u001b[0;31m         \u001b[0mself\u001b[0m\u001b[0;34m.\u001b[0m\u001b[0msaveFirstProgenHistory\u001b[0m\u001b[0;34m(\u001b[0m\u001b[0;34m)\u001b[0m\u001b[0;34m\u001b[0m\u001b[0m\n\u001b[0m\u001b[1;32m     11\u001b[0m \u001b[0;34m\u001b[0m\u001b[0m\n\u001b[1;32m     12\u001b[0m     \u001b[0;32mdef\u001b[0m \u001b[0msaveFirstProgenHistory\u001b[0m\u001b[0;34m(\u001b[0m\u001b[0mself\u001b[0m\u001b[0;34m)\u001b[0m\u001b[0;34m:\u001b[0m\u001b[0;34m\u001b[0m\u001b[0m\n",
      "\u001b[0;32m<ipython-input-2-123624f77661>\u001b[0m in \u001b[0;36msaveFirstProgenHistory\u001b[0;34m(self)\u001b[0m\n\u001b[1;32m     19\u001b[0m         \u001b[0;32mwhile\u001b[0m \u001b[0;32mTrue\u001b[0m\u001b[0;34m:\u001b[0m\u001b[0;34m\u001b[0m\u001b[0m\n\u001b[1;32m     20\u001b[0m             \u001b[0mself\u001b[0m\u001b[0;34m.\u001b[0m\u001b[0mmass_history\u001b[0m \u001b[0;34m=\u001b[0m \u001b[0mnp\u001b[0m\u001b[0;34m.\u001b[0m\u001b[0mappend\u001b[0m\u001b[0;34m(\u001b[0m\u001b[0mself\u001b[0m\u001b[0;34m.\u001b[0m\u001b[0mmass_history\u001b[0m\u001b[0;34m,\u001b[0m \u001b[0mself\u001b[0m\u001b[0;34m.\u001b[0m\u001b[0mhalo_mass\u001b[0m\u001b[0;34m[\u001b[0m\u001b[0mfirst_index\u001b[0m\u001b[0;34m]\u001b[0m\u001b[0;34m)\u001b[0m\u001b[0;34m\u001b[0m\u001b[0m\n\u001b[0;32m---> 21\u001b[0;31m             \u001b[0mself\u001b[0m\u001b[0;34m.\u001b[0m\u001b[0msnapshot_history\u001b[0m \u001b[0;34m=\u001b[0m \u001b[0mnp\u001b[0m\u001b[0;34m.\u001b[0m\u001b[0mappend\u001b[0m\u001b[0;34m(\u001b[0m\u001b[0mself\u001b[0m\u001b[0;34m.\u001b[0m\u001b[0msnapshot_history\u001b[0m\u001b[0;34m,\u001b[0m \u001b[0mself\u001b[0m\u001b[0;34m.\u001b[0m\u001b[0msnap\u001b[0m\u001b[0;34m[\u001b[0m\u001b[0mfirst_index\u001b[0m\u001b[0;34m]\u001b[0m\u001b[0;34m)\u001b[0m\u001b[0;34m\u001b[0m\u001b[0m\n\u001b[0m\u001b[1;32m     22\u001b[0m             \u001b[0mfirst_ID\u001b[0m\u001b[0;34m=\u001b[0m \u001b[0mself\u001b[0m\u001b[0;34m.\u001b[0m\u001b[0mfirstprogenID\u001b[0m\u001b[0;34m[\u001b[0m\u001b[0mfirst_index\u001b[0m\u001b[0;34m]\u001b[0m\u001b[0;34m\u001b[0m\u001b[0m\n\u001b[1;32m     23\u001b[0m             \u001b[0;32mif\u001b[0m \u001b[0mfirst_ID\u001b[0m \u001b[0;34m==\u001b[0m \u001b[0;34m-\u001b[0m\u001b[0;36m1\u001b[0m\u001b[0;34m:\u001b[0m\u001b[0;34m\u001b[0m\u001b[0m\n",
      "\u001b[0;32m~/venv/lib/python3.6/site-packages/numpy/lib/function_base.py\u001b[0m in \u001b[0;36mappend\u001b[0;34m(arr, values, axis)\u001b[0m\n\u001b[1;32m   4524\u001b[0m         \u001b[0;32mif\u001b[0m \u001b[0marr\u001b[0m\u001b[0;34m.\u001b[0m\u001b[0mndim\u001b[0m \u001b[0;34m!=\u001b[0m \u001b[0;36m1\u001b[0m\u001b[0;34m:\u001b[0m\u001b[0;34m\u001b[0m\u001b[0m\n\u001b[1;32m   4525\u001b[0m             \u001b[0marr\u001b[0m \u001b[0;34m=\u001b[0m \u001b[0marr\u001b[0m\u001b[0;34m.\u001b[0m\u001b[0mravel\u001b[0m\u001b[0;34m(\u001b[0m\u001b[0;34m)\u001b[0m\u001b[0;34m\u001b[0m\u001b[0m\n\u001b[0;32m-> 4526\u001b[0;31m         \u001b[0mvalues\u001b[0m \u001b[0;34m=\u001b[0m \u001b[0mravel\u001b[0m\u001b[0;34m(\u001b[0m\u001b[0mvalues\u001b[0m\u001b[0;34m)\u001b[0m\u001b[0;34m\u001b[0m\u001b[0m\n\u001b[0m\u001b[1;32m   4527\u001b[0m         \u001b[0maxis\u001b[0m \u001b[0;34m=\u001b[0m \u001b[0marr\u001b[0m\u001b[0;34m.\u001b[0m\u001b[0mndim\u001b[0m\u001b[0;34m-\u001b[0m\u001b[0;36m1\u001b[0m\u001b[0;34m\u001b[0m\u001b[0m\n\u001b[1;32m   4528\u001b[0m     \u001b[0;32mreturn\u001b[0m \u001b[0mconcatenate\u001b[0m\u001b[0;34m(\u001b[0m\u001b[0;34m(\u001b[0m\u001b[0marr\u001b[0m\u001b[0;34m,\u001b[0m \u001b[0mvalues\u001b[0m\u001b[0;34m)\u001b[0m\u001b[0;34m,\u001b[0m \u001b[0maxis\u001b[0m\u001b[0;34m=\u001b[0m\u001b[0maxis\u001b[0m\u001b[0;34m)\u001b[0m\u001b[0;34m\u001b[0m\u001b[0m\n",
      "\u001b[0;32m~/venv/lib/python3.6/site-packages/numpy/core/fromnumeric.py\u001b[0m in \u001b[0;36mravel\u001b[0;34m(a, order)\u001b[0m\n\u001b[1;32m   1572\u001b[0m         \u001b[0;32mreturn\u001b[0m \u001b[0masarray\u001b[0m\u001b[0;34m(\u001b[0m\u001b[0ma\u001b[0m\u001b[0;34m)\u001b[0m\u001b[0;34m.\u001b[0m\u001b[0mravel\u001b[0m\u001b[0;34m(\u001b[0m\u001b[0morder\u001b[0m\u001b[0;34m=\u001b[0m\u001b[0morder\u001b[0m\u001b[0;34m)\u001b[0m\u001b[0;34m\u001b[0m\u001b[0m\n\u001b[1;32m   1573\u001b[0m     \u001b[0;32melse\u001b[0m\u001b[0;34m:\u001b[0m\u001b[0;34m\u001b[0m\u001b[0m\n\u001b[0;32m-> 1574\u001b[0;31m         \u001b[0;32mreturn\u001b[0m \u001b[0masanyarray\u001b[0m\u001b[0;34m(\u001b[0m\u001b[0ma\u001b[0m\u001b[0;34m)\u001b[0m\u001b[0;34m.\u001b[0m\u001b[0mravel\u001b[0m\u001b[0;34m(\u001b[0m\u001b[0morder\u001b[0m\u001b[0;34m=\u001b[0m\u001b[0morder\u001b[0m\u001b[0;34m)\u001b[0m\u001b[0;34m\u001b[0m\u001b[0m\n\u001b[0m\u001b[1;32m   1575\u001b[0m \u001b[0;34m\u001b[0m\u001b[0m\n\u001b[1;32m   1576\u001b[0m \u001b[0;34m\u001b[0m\u001b[0m\n",
      "\u001b[0;32m~/venv/lib/python3.6/site-packages/numpy/core/numeric.py\u001b[0m in \u001b[0;36masanyarray\u001b[0;34m(a, dtype, order)\u001b[0m\n\u001b[1;32m    551\u001b[0m \u001b[0;34m\u001b[0m\u001b[0m\n\u001b[1;32m    552\u001b[0m     \"\"\"\n\u001b[0;32m--> 553\u001b[0;31m     \u001b[0;32mreturn\u001b[0m \u001b[0marray\u001b[0m\u001b[0;34m(\u001b[0m\u001b[0ma\u001b[0m\u001b[0;34m,\u001b[0m \u001b[0mdtype\u001b[0m\u001b[0;34m,\u001b[0m \u001b[0mcopy\u001b[0m\u001b[0;34m=\u001b[0m\u001b[0;32mFalse\u001b[0m\u001b[0;34m,\u001b[0m \u001b[0morder\u001b[0m\u001b[0;34m=\u001b[0m\u001b[0morder\u001b[0m\u001b[0;34m,\u001b[0m \u001b[0msubok\u001b[0m\u001b[0;34m=\u001b[0m\u001b[0;32mTrue\u001b[0m\u001b[0;34m)\u001b[0m\u001b[0;34m\u001b[0m\u001b[0m\n\u001b[0m\u001b[1;32m    554\u001b[0m \u001b[0;34m\u001b[0m\u001b[0m\n\u001b[1;32m    555\u001b[0m \u001b[0;34m\u001b[0m\u001b[0m\n",
      "\u001b[0;31mKeyboardInterrupt\u001b[0m: "
     ]
    }
   ],
   "source": [
    "def get_major_merger_count(f, index):\n",
    "    nextprogenID = np.array(f['NextProgenitorID'])\n",
    "    firstprogenID = np.array(f['FirstProgenitorID'])\n",
    "    subhaloID = np.array(f['SubhaloID'])\n",
    "    haloMass = np.array(f['SubhaloMassType'])[:,1]\n",
    "    snap = np.array(f['SnapNum'])\n",
    "    newID={}\n",
    "    for value_t, index_t in enumerate(subhaloID):\n",
    "        newID[index_t]=value_t\n",
    "    total_merger_count=[]\n",
    "    mass_ratio=[]\n",
    "    major_merger_count=[]\n",
    "\n",
    "    for temp in index:\n",
    "        \n",
    "        fmr=FindMassRatio(temp, haloMass, snap, firstprogenID, nextprogenID, newID)\n",
    "        mass_ratio_t, major_merger = fmr.getMassRatioHistory()\n",
    "        mass_ratio.append(mass_ratio_t)\n",
    "        major_merger_count.append(major_merger)\n",
    "        del fmr\n",
    "        \n",
    "        #############################################################\n",
    "        #######################Total Merger count####################\n",
    "        merge_count = 0\n",
    "        ## first progenitor search\n",
    "        firstprogen_index = temp\n",
    "\n",
    "        while True:\n",
    "            try:\n",
    "                firstprogen_index=firstprogenID[firstprogen_index]\n",
    "                if firstprogen_index == -1:\n",
    "                    break\n",
    "                firstprogen_index = newID[firstprogen_index]\n",
    "\n",
    "            except IndexError:\n",
    "                print(1)\n",
    "                break\n",
    "\n",
    "            nextprogen_index = firstprogen_index\n",
    "            \n",
    "            ## next progenitor search\n",
    "            while True:\n",
    "                nextprogen_index = nextprogenID[nextprogen_index]\n",
    "                if (nextprogen_index == -1):\n",
    "                    break\n",
    "                nextprogen_index = newID[nextprogen_index]                    \n",
    "                merge_count += 1\n",
    "\n",
    "        total_merger_count.append(merge_count)\n",
    "        ###########################################################\n",
    "        \n",
    "\n",
    "    return np.array(total_merger_count), np.array(mass_ratio), np.array(major_merger_count)\n",
    "\n",
    "\n",
    "data = np.zeros((1,11))\n",
    "\n",
    "for i in range(20): # 10\n",
    "    with h5py.File(\"/home/kerex/machine_learning/illustris/data/tng/tree_extended.{}.hdf5\".format(i), \"r\") as f:\n",
    "        print(\"File\",i)\n",
    "        snap = np.array(f['SnapNum'])\n",
    "        index=np.where(snap==99)[0]\n",
    "        \n",
    "        dm_mass = np.array(f['SubhaloMassType'][:,1])[index]\n",
    "        vel_disp = np.array(f['SubhaloVelDisp'])[index]\n",
    "        vel_max = np.array(f['SubhaloVmax'])[index]\n",
    "\n",
    "        total_merger_count, merger_mass_ratio, major_merger_count\\\n",
    "            = get_major_merger_count(f, index)\n",
    "       \n",
    "        sfr = np.array(f['SubhaloSFR'])[index]\n",
    "        gas_mass = np.array(f['SubhaloMassType'][:,0])[index]\n",
    "        bh_mass = np.array(f['SubhaloBHMass'])[index]\n",
    "        metal = np.array(f['SubhaloGasMetallicity'])[index]\n",
    "        star_mass = np.array(f['SubhaloMassType'][:,4])[index]\n",
    "\n",
    "        \n",
    "        data_t = np.c_[dm_mass, vel_disp, vel_max,\n",
    "                       total_merger_count, merger_mass_ratio, major_merger_count,\n",
    "                       sfr, gas_mass, bh_mass, metal, star_mass]\n",
    "    data = np.r_[data,data_t]\n",
    "    del data_t\n",
    "data = data[1:,:]    ## recently modified! so saved version is not \n",
    "print(data.shape)"
   ]
  },
  {
   "cell_type": "code",
   "execution_count": null,
   "metadata": {},
   "outputs": [],
   "source": [
    "np.save(\"TNG\", data)"
   ]
  },
  {
   "cell_type": "code",
   "execution_count": 10,
   "metadata": {},
   "outputs": [],
   "source": [
    "f = h5py.File(\"/home/kerex/machine_learning/illustris/data/tng/groupcat/fof_subhalo_tab_099.0.hdf5\")"
   ]
  },
  {
   "cell_type": "code",
   "execution_count": 11,
   "metadata": {},
   "outputs": [
    {
     "data": {
      "text/plain": [
       "['Config', 'Group', 'Header', 'IDs', 'Parameters', 'Subhalo']"
      ]
     },
     "execution_count": 11,
     "metadata": {},
     "output_type": "execute_result"
    }
   ],
   "source": [
    "list(f)"
   ]
  },
  {
   "cell_type": "code",
   "execution_count": 18,
   "metadata": {},
   "outputs": [
    {
     "data": {
      "text/plain": [
       "True"
      ]
     },
     "execution_count": 18,
     "metadata": {},
     "output_type": "execute_result"
    }
   ],
   "source": [
    "f['Subhalo']['SubhaloFlag'][2]"
   ]
  },
  {
   "cell_type": "code",
   "execution_count": null,
   "metadata": {},
   "outputs": [],
   "source": [
    "photo = np.zeros((1,8))\n",
    "for i in range(20):\n",
    "    with h5py.File(\"/home/kerex/machine_learning/illustris/data/tng/tree_extended.{}.hdf5\".format(i), 'r') as f:\n",
    "        print(\"File \",i)\n",
    "        snap = np.array(f['SnapNum'])\n",
    "        index=np.where(snap==99)[0]\n",
    "        photo_t =np.array(f['SubhaloStellarPhotometrics'])[index]\n",
    "        photo = np.r_[photo, photo_t]\n",
    "    print(photo.shape)\n",
    "photo=photo[1:,:]"
   ]
  },
  {
   "cell_type": "code",
   "execution_count": null,
   "metadata": {},
   "outputs": [],
   "source": [
    "np.save(\"photometric\", photo)"
   ]
  },
  {
   "cell_type": "code",
   "execution_count": 10,
   "metadata": {
    "collapsed": true,
    "jupyter": {
     "outputs_hidden": true
    }
   },
   "outputs": [
    {
     "name": "stdout",
     "output_type": "stream",
     "text": [
      "File  0\n",
      "(139393,)\n",
      "File  1\n",
      "(246458,)\n",
      "File  2\n",
      "(330187,)\n",
      "File  3\n",
      "(464978,)\n",
      "File  4\n",
      "(601909,)\n",
      "File  5\n",
      "(740792,)\n",
      "File  6\n",
      "(879881,)\n",
      "File  7\n",
      "(1016919,)\n",
      "File  8\n",
      "(1154511,)\n",
      "File  9\n",
      "(1299532,)\n",
      "File  10\n",
      "(1460348,)\n",
      "File  11\n",
      "(1650781,)\n",
      "File  12\n",
      "(1878870,)\n",
      "File  13\n",
      "(2132391,)\n",
      "File  14\n",
      "(2424469,)\n",
      "File  15\n",
      "(2751469,)\n",
      "File  16\n",
      "(3124102,)\n",
      "File  17\n",
      "(3612518,)\n",
      "File  18\n",
      "(4100794,)\n",
      "File  19\n",
      "(4361648,)\n"
     ]
    }
   ],
   "source": [
    "photo = np.zeros((1,))\n",
    "for i in range(20):\n",
    "    with h5py.File(\"/home/kerex/machine_learning/illustris/data/tng/tree_extended.{}.hdf5\".format(i), 'r') as f:\n",
    "        print(\"File \",i)\n",
    "        snap = np.array(f['SnapNum'])\n",
    "        index=np.where(snap==99)[0]\n",
    "        photo_t =np.array(f['GroupBHMass'])[index]\n",
    "        photo = np.r_[photo, photo_t]\n",
    "    print(photo.shape)\n",
    "photo=photo[1:]"
   ]
  },
  {
   "cell_type": "code",
   "execution_count": 12,
   "metadata": {
    "scrolled": true
   },
   "outputs": [
    {
     "data": {
      "text/plain": [
       "(4361647,)"
      ]
     },
     "execution_count": 12,
     "metadata": {},
     "output_type": "execute_result"
    }
   ],
   "source": [
    "photo.shape"
   ]
  },
  {
   "cell_type": "code",
   "execution_count": 31,
   "metadata": {},
   "outputs": [
    {
     "name": "stdout",
     "output_type": "stream",
     "text": [
      "File  0\n",
      "(418665,)\n",
      "File  1\n",
      "(820066,)\n",
      "File  2\n",
      "(1230463,)\n",
      "File  3\n",
      "(1649531,)\n",
      "File  4\n",
      "(2127091,)\n",
      "File  5\n",
      "(2789615,)\n",
      "File  6\n",
      "(3659124,)\n",
      "File  7\n",
      "(4908705,)\n",
      "File  8\n",
      "(5012155,)\n"
     ]
    }
   ],
   "source": [
    "\n",
    "## SubhaloMass\n",
    "data = np.array([])\n",
    "for i in range(9):\n",
    "    with h5py.File(\"/home/kerex/machine_learning/illustris/data/tng-dm/tree_extended.{}.hdf5\".format(i), 'r') as f:\n",
    "        print(\"File \",i)\n",
    "        snap = np.array(f['SnapNum'])\n",
    "        index=np.where(snap==99)[0]\n",
    "        data = np.append(data, np.array(f['SubhaloVelDisp'])[index])\n",
    "        \n",
    "        #vel_max = np.array(f['SubhaloVmax'])[index]\n",
    "    print(data.shape)"
   ]
  },
  {
   "cell_type": "code",
   "execution_count": 32,
   "metadata": {},
   "outputs": [],
   "source": [
    "np.save(\"TNG100-DM_Vdisp\",data)"
   ]
  },
  {
   "cell_type": "code",
   "execution_count": 33,
   "metadata": {},
   "outputs": [
    {
     "name": "stdout",
     "output_type": "stream",
     "text": [
      "File  0\n",
      "(139392,)\n",
      "File  1\n",
      "(246457,)\n",
      "File  2\n",
      "(330186,)\n",
      "File  3\n",
      "(464977,)\n",
      "File  4\n",
      "(601908,)\n",
      "File  5\n",
      "(740791,)\n",
      "File  6\n",
      "(879880,)\n",
      "File  7\n",
      "(1016918,)\n",
      "File  8\n",
      "(1154510,)\n",
      "File  9\n",
      "(1299531,)\n",
      "File  10\n",
      "(1460347,)\n",
      "File  11\n",
      "(1650780,)\n",
      "File  12\n",
      "(1878869,)\n",
      "File  13\n",
      "(2132390,)\n",
      "File  14\n",
      "(2424468,)\n",
      "File  15\n",
      "(2751468,)\n",
      "File  16\n",
      "(3124101,)\n",
      "File  17\n",
      "(3612517,)\n",
      "File  18\n",
      "(4100793,)\n",
      "File  19\n",
      "(4361647,)\n"
     ]
    }
   ],
   "source": [
    "\n",
    "## SubhaloMass\n",
    "data = np.array([])\n",
    "for i in range(20):\n",
    "    with h5py.File(\"/home/kerex/machine_learning/illustris/data/tng/tree_extended.{}.hdf5\".format(i), 'r') as f:\n",
    "        print(\"File \",i)\n",
    "        snap = np.array(f['SnapNum'])\n",
    "        index=np.where(snap==99)[0]\n",
    "        data = np.append(data, np.array(f['SubhaloVelDisp'])[index])\n",
    "        \n",
    "        #vel_max = np.array(f['SubhaloVmax'])[index]\n",
    "    print(data.shape)\n",
    "np.save(\"TNG100_Vdisp\",data)"
   ]
  },
  {
   "cell_type": "code",
   "execution_count": null,
   "metadata": {},
   "outputs": [],
   "source": [
    "data"
   ]
  },
  {
   "cell_type": "code",
   "execution_count": null,
   "metadata": {},
   "outputs": [],
   "source": []
  },
  {
   "cell_type": "code",
   "execution_count": 26,
   "metadata": {},
   "outputs": [
    {
     "name": "stdout",
     "output_type": "stream",
     "text": [
      "File  0\n",
      "(139393, 4)\n",
      "File  1\n",
      "(246458, 4)\n",
      "File  2\n",
      "(330187, 4)\n",
      "File  3\n",
      "(464978, 4)\n",
      "File  4\n",
      "(601909, 4)\n",
      "File  5\n",
      "(740792, 4)\n",
      "File  6\n",
      "(879881, 4)\n",
      "File  7\n",
      "(1016919, 4)\n",
      "File  8\n",
      "(1154511, 4)\n",
      "File  9\n",
      "(1299532, 4)\n",
      "File  10\n",
      "(1460348, 4)\n",
      "File  11\n",
      "(1650781, 4)\n",
      "File  12\n",
      "(1878870, 4)\n",
      "File  13\n",
      "(2132391, 4)\n",
      "File  14\n",
      "(2424469, 4)\n",
      "File  15\n",
      "(2751469, 4)\n",
      "File  16\n",
      "(3124102, 4)\n",
      "File  17\n",
      "(3612518, 4)\n",
      "File  18\n",
      "(4100794, 4)\n",
      "File  19\n",
      "(4361648, 4)\n"
     ]
    }
   ],
   "source": [
    "## SubhaloMass\n",
    "#data = np.array([])\n",
    "data=np.zeros((1,4))\n",
    "for i in range(20):\n",
    "    with h5py.File(\"/home/kerex/machine_learning/illustris/data/tng/tree_extended.{}.hdf5\".format(i), 'r') as f:\n",
    "        print(\"File \",i)\n",
    "        snap = np.array(f['SnapNum'])\n",
    "        index=np.where(snap==99)[0]\n",
    "        dm_mass = np.array(f['SubhaloMass'])[index]\n",
    "        gas_mass = np.array(f['SubhaloMassType'][:,0])[index]\n",
    "        star_mass = np.array(f['SubhaloMassType'][:,4])[index]\n",
    "        bh_mass = np.array(f['SubhaloBHMass'])[index]\n",
    "\n",
    "        \n",
    "\n",
    "        \n",
    "        data_t = np.c_[dm_mass, gas_mass, star_mass, bh_mass]\n",
    "    data = np.r_[data,data_t]\n",
    "    print(data.shape)"
   ]
  },
  {
   "cell_type": "code",
   "execution_count": 27,
   "metadata": {},
   "outputs": [],
   "source": [
    "h=0.6774\n",
    "data[:,0] *= 1e+1/h\n",
    "data[:,[1,2,3]] *= 1e+5/h\n",
    "data=data[data[:,0]>1]\n",
    "data=data[data[:,1]>(3e+2)]\n",
    "data=data[data[:,2]>1e+3] \n",
    "data[:,0] *=1e+9\n",
    "data[:,[1,2,3]] *= 1e+5"
   ]
  },
  {
   "cell_type": "code",
   "execution_count": 28,
   "metadata": {},
   "outputs": [],
   "source": [
    "np.save(\"TNG100_HaloMass_cut\",data[:,0])"
   ]
  },
  {
   "cell_type": "code",
   "execution_count": 22,
   "metadata": {},
   "outputs": [],
   "source": [
    "halo=data.sum(axis=1)"
   ]
  },
  {
   "cell_type": "code",
   "execution_count": 24,
   "metadata": {},
   "outputs": [
    {
     "data": {
      "text/plain": [
       "array([3.42653171e+14, 3.81785737e+12, 3.35387625e+12, ...,\n",
       "       3.03676570e+10, 3.75741761e+10, 2.31518267e+10])"
      ]
     },
     "execution_count": 24,
     "metadata": {},
     "output_type": "execute_result"
    }
   ],
   "source": [
    "halo"
   ]
  },
  {
   "cell_type": "code",
   "execution_count": 25,
   "metadata": {},
   "outputs": [],
   "source": [
    "np.save(\"TNG100_HaloMass_cut\",halo)"
   ]
  },
  {
   "cell_type": "code",
   "execution_count": 5,
   "metadata": {},
   "outputs": [],
   "source": [
    "#np.save(\"TNG100_SubhaloMass\",halo)"
   ]
  },
  {
   "cell_type": "code",
   "execution_count": null,
   "metadata": {},
   "outputs": [],
   "source": []
  },
  {
   "cell_type": "code",
   "execution_count": 12,
   "metadata": {
    "scrolled": true
   },
   "outputs": [
    {
     "name": "stdout",
     "output_type": "stream",
     "text": [
      "File  0\n",
      "(139392,)\n",
      "File  1\n",
      "(246457,)\n",
      "File  2\n",
      "(330186,)\n",
      "File  3\n",
      "(464977,)\n",
      "File  4\n",
      "(601908,)\n",
      "File  5\n",
      "(740791,)\n",
      "File  6\n",
      "(879880,)\n",
      "File  7\n",
      "(1016918,)\n",
      "File  8\n",
      "(1154510,)\n",
      "File  9\n",
      "(1299531,)\n",
      "File  10\n",
      "(1460347,)\n",
      "File  11\n",
      "(1650780,)\n",
      "File  12\n",
      "(1878869,)\n",
      "File  13\n",
      "(2132390,)\n",
      "File  14\n",
      "(2424468,)\n",
      "File  15\n",
      "(2751468,)\n",
      "File  16\n",
      "(3124101,)\n",
      "File  17\n",
      "(3612517,)\n",
      "File  18\n",
      "(4100793,)\n",
      "File  19\n",
      "(4361647,)\n"
     ]
    }
   ],
   "source": [
    "## SubhaloMass\n",
    "data = np.array([])\n",
    "for i in range(20):\n",
    "    with h5py.File(\"/home/kerex/machine_learning/illustris/data/tng/tree_extended.{}.hdf5\".format(i), 'r') as f:\n",
    "        print(\"File \",i)\n",
    "        snap = np.array(f['SnapNum'])\n",
    "        index=np.where(snap==99)[0]\n",
    "        data = np.append(data, np.array(f['SubhaloMassType'])[index])\n",
    "    print(data.shape)"
   ]
  },
  {
   "cell_type": "code",
   "execution_count": 13,
   "metadata": {},
   "outputs": [],
   "source": [
    "np.save(\"TNG100_SubhaloMass_DM\",data)"
   ]
  },
  {
   "cell_type": "code",
   "execution_count": 4,
   "metadata": {
    "collapsed": true,
    "jupyter": {
     "outputs_hidden": true
    }
   },
   "outputs": [
    {
     "data": {
      "text/plain": [
       "['DescendantID',\n",
       " 'FirstProgenitorID',\n",
       " 'FirstSubhaloInFOFGroupID',\n",
       " 'GroupBHMass',\n",
       " 'GroupBHMdot',\n",
       " 'GroupCM',\n",
       " 'GroupFirstSub',\n",
       " 'GroupGasMetalFractions',\n",
       " 'GroupGasMetallicity',\n",
       " 'GroupLen',\n",
       " 'GroupLenType',\n",
       " 'GroupMass',\n",
       " 'GroupMassType',\n",
       " 'GroupNsubs',\n",
       " 'GroupPos',\n",
       " 'GroupSFR',\n",
       " 'GroupStarMetalFractions',\n",
       " 'GroupStarMetallicity',\n",
       " 'GroupVel',\n",
       " 'GroupWindMass',\n",
       " 'Group_M_Crit200',\n",
       " 'Group_M_Crit500',\n",
       " 'Group_M_Mean200',\n",
       " 'Group_M_TopHat200',\n",
       " 'Group_R_Crit200',\n",
       " 'Group_R_Crit500',\n",
       " 'Group_R_Mean200',\n",
       " 'Group_R_TopHat200',\n",
       " 'LastProgenitorID',\n",
       " 'MainLeafProgenitorID',\n",
       " 'Mass',\n",
       " 'MassHistory',\n",
       " 'NextProgenitorID',\n",
       " 'NextSubhaloInFOFGroupID',\n",
       " 'NumParticles',\n",
       " 'RootDescendantID',\n",
       " 'SnapNum',\n",
       " 'SubfindID',\n",
       " 'SubhaloBHMass',\n",
       " 'SubhaloBHMdot',\n",
       " 'SubhaloBfldDisk',\n",
       " 'SubhaloBfldHalo',\n",
       " 'SubhaloCM',\n",
       " 'SubhaloGasMetalFractions',\n",
       " 'SubhaloGasMetalFractionsHalfRad',\n",
       " 'SubhaloGasMetalFractionsMaxRad',\n",
       " 'SubhaloGasMetalFractionsSfr',\n",
       " 'SubhaloGasMetalFractionsSfrWeighted',\n",
       " 'SubhaloGasMetallicity',\n",
       " 'SubhaloGasMetallicityHalfRad',\n",
       " 'SubhaloGasMetallicityMaxRad',\n",
       " 'SubhaloGasMetallicitySfr',\n",
       " 'SubhaloGasMetallicitySfrWeighted',\n",
       " 'SubhaloGrNr',\n",
       " 'SubhaloHalfmassRad',\n",
       " 'SubhaloHalfmassRadType',\n",
       " 'SubhaloID',\n",
       " 'SubhaloIDMostbound',\n",
       " 'SubhaloIDRaw',\n",
       " 'SubhaloLen',\n",
       " 'SubhaloLenType',\n",
       " 'SubhaloMass',\n",
       " 'SubhaloMassInHalfRad',\n",
       " 'SubhaloMassInHalfRadType',\n",
       " 'SubhaloMassInMaxRad',\n",
       " 'SubhaloMassInMaxRadType',\n",
       " 'SubhaloMassInRad',\n",
       " 'SubhaloMassInRadType',\n",
       " 'SubhaloMassType',\n",
       " 'SubhaloParent',\n",
       " 'SubhaloPos',\n",
       " 'SubhaloSFR',\n",
       " 'SubhaloSFRinHalfRad',\n",
       " 'SubhaloSFRinMaxRad',\n",
       " 'SubhaloSFRinRad',\n",
       " 'SubhaloSpin',\n",
       " 'SubhaloStarMetalFractions',\n",
       " 'SubhaloStarMetalFractionsHalfRad',\n",
       " 'SubhaloStarMetalFractionsMaxRad',\n",
       " 'SubhaloStarMetallicity',\n",
       " 'SubhaloStarMetallicityHalfRad',\n",
       " 'SubhaloStarMetallicityMaxRad',\n",
       " 'SubhaloStellarPhotometrics',\n",
       " 'SubhaloStellarPhotometricsMassInRad',\n",
       " 'SubhaloStellarPhotometricsRad',\n",
       " 'SubhaloVel',\n",
       " 'SubhaloVelDisp',\n",
       " 'SubhaloVmax',\n",
       " 'SubhaloVmaxRad',\n",
       " 'SubhaloWindMass',\n",
       " 'TreeID']"
      ]
     },
     "execution_count": 4,
     "metadata": {},
     "output_type": "execute_result"
    }
   ],
   "source": [
    "f=h5py.File(\"/home/kerex/machine_learning/illustris/data/tng/tree_extended.{}.hdf5\".format(i), 'r')\n",
    "list(f)"
   ]
  },
  {
   "cell_type": "code",
   "execution_count": null,
   "metadata": {},
   "outputs": [],
   "source": [
    "photo"
   ]
  },
  {
   "cell_type": "code",
   "execution_count": 4,
   "metadata": {
    "collapsed": true,
    "jupyter": {
     "outputs_hidden": true
    }
   },
   "outputs": [
    {
     "name": "stdout",
     "output_type": "stream",
     "text": [
      "File  0\n",
      "(139393, 3)\n",
      "File  1\n",
      "(246458, 3)\n",
      "File  2\n",
      "(330187, 3)\n",
      "File  3\n",
      "(464978, 3)\n",
      "File  4\n",
      "(601909, 3)\n",
      "File  5\n",
      "(740792, 3)\n",
      "File  6\n",
      "(879881, 3)\n",
      "File  7\n",
      "(1016919, 3)\n",
      "File  8\n",
      "(1154511, 3)\n",
      "File  9\n",
      "(1299532, 3)\n",
      "File  10\n",
      "(1460348, 3)\n",
      "File  11\n",
      "(1650781, 3)\n",
      "File  12\n",
      "(1878870, 3)\n",
      "File  13\n",
      "(2132391, 3)\n",
      "File  14\n",
      "(2424469, 3)\n",
      "File  15\n",
      "(2751469, 3)\n",
      "File  16\n",
      "(3124102, 3)\n",
      "File  17\n",
      "(3612518, 3)\n",
      "File  18\n",
      "(4100794, 3)\n",
      "File  19\n",
      "(4361648, 3)\n"
     ]
    }
   ],
   "source": [
    "pos = np.zeros((1,3))\n",
    "for i in range(20):\n",
    "    with h5py.File(\"/home/kerex/machine_learning/illustris/data/tng/tree_extended.{}.hdf5\".format(i), 'r') as f:\n",
    "        print(\"File \",i)\n",
    "        snap = np.array(f['SnapNum'])\n",
    "        index=np.where(snap==99)[0]\n",
    "        pos_t =np.array(f['SubhaloPos'])[index]\n",
    "        pos = np.r_[pos, pos_t]\n",
    "    print(pos.shape)\n",
    "pos=pos[1:,:]"
   ]
  },
  {
   "cell_type": "code",
   "execution_count": 5,
   "metadata": {},
   "outputs": [],
   "source": [
    "np.save(\"pos\", pos)"
   ]
  },
  {
   "cell_type": "code",
   "execution_count": 6,
   "metadata": {},
   "outputs": [],
   "source": [
    "##POS + MASS processing : Mass cut applied only for M_DM > 10**9M_sun\n",
    "##Then after merged with baryon data, it should be cutted by another lims\n",
    "h=0.6774\n",
    "tng=np.load(\"TNG.npy\")\n",
    "pos=np.load(\"pos.npy\")\n",
    "mass=tng[:,0]\n",
    "mass*=1e+10/h  # units M_sun\n",
    "pos=pos/h\n",
    "data=np.c_[pos,mass]\n",
    "#data=data[data[:,3]>1e+9]"
   ]
  },
  {
   "cell_type": "code",
   "execution_count": 7,
   "metadata": {},
   "outputs": [
    {
     "data": {
      "text/plain": [
       "(4361647, 4)"
      ]
     },
     "execution_count": 7,
     "metadata": {},
     "output_type": "execute_result"
    }
   ],
   "source": [
    "data.shape"
   ]
  },
  {
   "cell_type": "code",
   "execution_count": 8,
   "metadata": {},
   "outputs": [],
   "source": [
    "np.save(\"pos_mass_tng100\", data)"
   ]
  },
  {
   "cell_type": "code",
   "execution_count": 9,
   "metadata": {},
   "outputs": [],
   "source": [
    "np.savetxt('pos_mass_tng100.csv', data, delimiter=',')"
   ]
  },
  {
   "cell_type": "code",
   "execution_count": 9,
   "metadata": {},
   "outputs": [
    {
     "data": {
      "text/plain": [
       "(1055093, 4)"
      ]
     },
     "execution_count": 9,
     "metadata": {},
     "output_type": "execute_result"
    }
   ],
   "source": [
    "data.shape"
   ]
  },
  {
   "cell_type": "code",
   "execution_count": 11,
   "metadata": {},
   "outputs": [
    {
     "data": {
      "text/plain": [
       "array([[1.60912790e+04, 7.50781135e+04, 7.02545521e+04, 2.90905340e+14],\n",
       "       [1.69334914e+04, 7.47082192e+04, 7.04339432e+04, 3.25110981e+12],\n",
       "       [1.56664498e+04, 7.53615098e+04, 7.04817305e+04, 1.12328700e+12],\n",
       "       ...,\n",
       "       [9.79674814e+04, 2.38272989e+04, 4.12010565e+04, 2.17186470e+09],\n",
       "       [3.49615603e+04, 9.59663673e+04, 3.36955582e+04, 3.74665347e+09],\n",
       "       [2.62437894e+04, 8.82061467e+04, 1.02227693e+05, 1.30610427e+09]])"
      ]
     },
     "execution_count": 11,
     "metadata": {},
     "output_type": "execute_result"
    }
   ],
   "source": [
    "data"
   ]
  },
  {
   "cell_type": "code",
   "execution_count": null,
   "metadata": {},
   "outputs": [],
   "source": [
    "fname=[\"U\", \"B\", \"V\", \"K\", \"g\", \"r\", \"i\", \"z\"]"
   ]
  },
  {
   "cell_type": "code",
   "execution_count": null,
   "metadata": {},
   "outputs": [],
   "source": [
    "photo.shape"
   ]
  },
  {
   "cell_type": "code",
   "execution_count": null,
   "metadata": {},
   "outputs": [],
   "source": [
    "photo_t = data[:,11:]"
   ]
  },
  {
   "cell_type": "code",
   "execution_count": null,
   "metadata": {},
   "outputs": [],
   "source": [
    "photo_t.shape"
   ]
  },
  {
   "cell_type": "code",
   "execution_count": null,
   "metadata": {},
   "outputs": [],
   "source": [
    "for i in range(8):\n",
    "    np.save(\"TNG100_{}\".format(fname[i]),photo_t[:,i])"
   ]
  },
  {
   "cell_type": "code",
   "execution_count": null,
   "metadata": {},
   "outputs": [],
   "source": [
    "        data_t = np.c_[dm_mass, vel_disp, vel_max,\n",
    "                       total_merger_count, merger_mass_ratio, major_merger_count,\n",
    "                       sfr, gas_mass, bh_mass, metal, star_mass]"
   ]
  },
  {
   "cell_type": "code",
   "execution_count": 28,
   "metadata": {},
   "outputs": [],
   "source": [
    "data = np.load(\"TNG.npy\")\n",
    "photo = np.load(\"photometric.npy\")"
   ]
  },
  {
   "cell_type": "code",
   "execution_count": 29,
   "metadata": {},
   "outputs": [
    {
     "data": {
      "text/plain": [
       "(4361647, 11)"
      ]
     },
     "execution_count": 29,
     "metadata": {},
     "output_type": "execute_result"
    }
   ],
   "source": [
    "data.shape"
   ]
  },
  {
   "cell_type": "code",
   "execution_count": 30,
   "metadata": {},
   "outputs": [],
   "source": [
    "data=np.c_[data, photo]"
   ]
  },
  {
   "cell_type": "code",
   "execution_count": 31,
   "metadata": {},
   "outputs": [],
   "source": [
    "h=0.6774\n",
    "data[:,0] *= 1e+10/h\n",
    "data[:,[7,8,10]] *= 1e+10/h\n",
    "data=data[data[:,0]>1e9]\n",
    "data=data[data[:,7]>0]\n",
    "data=data[data[:,10]>0] \n",
    "\n",
    "#data[:,0] *=1e+9\n",
    "#data[:,[7,8,10]] *= 1e+5"
   ]
  },
  {
   "cell_type": "code",
   "execution_count": 32,
   "metadata": {},
   "outputs": [
    {
     "data": {
      "text/plain": [
       "(154553, 19)"
      ]
     },
     "execution_count": 32,
     "metadata": {},
     "output_type": "execute_result"
    }
   ],
   "source": [
    "data.shape"
   ]
  },
  {
   "cell_type": "code",
   "execution_count": 40,
   "metadata": {},
   "outputs": [
    {
     "data": {
      "text/plain": [
       "19"
      ]
     },
     "execution_count": 40,
     "metadata": {},
     "output_type": "execute_result"
    }
   ],
   "source": [
    "len(fname)"
   ]
  },
  {
   "cell_type": "code",
   "execution_count": 39,
   "metadata": {},
   "outputs": [],
   "source": [
    "fname = [\"DarkMatterMass\",\"VelocityDispersion\",\"VelocityMax\",\n",
    " \"TotalMergerCount\",\"MergerMassRation\",\"MajorMergerCount\",\"SFR\",\"GasMass\",\"BlackHoleMass\",\"Metallicity\",\"StarMass\",\"U\", \"B\", \"V\", \"K\", \"g\", \"r\", \"i\", \"z\"]"
   ]
  },
  {
   "cell_type": "code",
   "execution_count": 41,
   "metadata": {},
   "outputs": [],
   "source": [
    "for i in range(len(fname)):\n",
    "    np.save(\"../_Software/data/TNG100_{}\".format(fname[i]),data[:,i])"
   ]
  },
  {
   "cell_type": "code",
   "execution_count": null,
   "metadata": {},
   "outputs": [],
   "source": [
    "fname = [\"SFR\",\"GasMass\",\"BlackHoleMass\",\"Metallicity\",\"StarMass\"]"
   ]
  },
  {
   "cell_type": "markdown",
   "metadata": {},
   "source": [
    "for i in range(5):\n",
    "    np.save(\"TNG100_{}\".format(fname[i]),data[:,i+6])"
   ]
  },
  {
   "cell_type": "markdown",
   "metadata": {},
   "source": [
    "##0 dm_mass, 1 vel_disp, 2 vel_max, 3 total_merger_count, 4 merger_mass_ratio, \n",
    "##5 major_merger_count, 6 spin, 7 local, 8 sum of m/r, 9 M_max/r , \n",
    "##10 # of halos > M*0.8, \n",
    "##11 sfr, 12 gas_mass, 13 star_mass, 14 bh_mass, 15 metal, 16~23 photo\n",
    "\n",
    "h=0.704 \n",
    "data[:,0] *= 1e+1/h\n",
    "data[:,[12,13,14]] *= 1e+5/h\n",
    "data=data[data[:,0]>1]\n",
    "data=data[data[:,12]>(3e+2)]\n",
    "data=data[data[:,13]>1e+3]\n",
    "\n",
    "data.shape"
   ]
  },
  {
   "cell_type": "code",
   "execution_count": 49,
   "metadata": {},
   "outputs": [],
   "source": [
    "import pandas as pd\n",
    "import numpy as np\n",
    "\n",
    "data = np.load(\"TNG.npy\")\n",
    "#tree = pd.read_csv(\"result_v3_tng100.csv\")\n",
    "tree = np.load(\"pos_mass_tng100.npy\")\n",
    "\n",
    "data=np.c_[data, tree]\n",
    "h=0.6774\n",
    "data[:,0] *= 1e+10/h\n",
    "data[:,[7,8,10]] *= 1e+10/h\n",
    "data=data[data[:,0]>1e9]\n",
    "data=data[data[:,7]>0]\n",
    "data=data[data[:,10]>0] \n",
    "\"\"\"\n",
    "data[:,0] *= 1e+1/h\n",
    "data[:,[7,8,10]] *= 1e+5/h\n",
    "data=data[data[:,0]>1]\n",
    "data=data[data[:,7]>(3e+2)]\n",
    "data=data[data[:,10]>1e+3] \n",
    "data[:,0] *=1e+9\n",
    "data[:,[7,8,10]] *= 1e+5\n",
    "\n",
    "\"\"\"\n",
    "names=[\"SumOfM_R\",\"M_max_R_max\",\"NumberOfLocalhalos\"]\n",
    "\n",
    "\"\"\"for key in tree.keys():\n",
    "    data = np.c_[data, np.array(tree[key])]\"\"\"\n",
    "\n",
    "for i in range(3):\n",
    "    np.save(\"../_Software/data/TNG100_\"+names[i], data[:,11+i])"
   ]
  },
  {
   "cell_type": "code",
   "execution_count": null,
   "metadata": {},
   "outputs": [],
   "source": []
  },
  {
   "cell_type": "code",
   "execution_count": 51,
   "metadata": {},
   "outputs": [
    {
     "data": {
      "text/plain": [
       "(154553, 15)"
      ]
     },
     "execution_count": 51,
     "metadata": {},
     "output_type": "execute_result"
    }
   ],
   "source": [
    "data.shape"
   ]
  },
  {
   "cell_type": "code",
   "execution_count": 50,
   "metadata": {},
   "outputs": [
    {
     "data": {
      "text/plain": [
       "array([[1.60912790e+04, 7.50781135e+04, 7.02545521e+04, 2.90905340e+14],\n",
       "       [1.69334914e+04, 7.47082192e+04, 7.04339432e+04, 3.25110981e+12],\n",
       "       [1.56664498e+04, 7.53615098e+04, 7.04817305e+04, 1.12328700e+12],\n",
       "       ...,\n",
       "       [1.75663569e+04, 2.55503176e+04, 1.34984926e+04, 2.53757410e+08],\n",
       "       [2.28662427e+04, 3.30155281e+04, 5.34282678e+04, 2.23903585e+08],\n",
       "       [6.59495405e+03, 4.05558102e+04, 1.58088558e+04, 1.94049775e+08]])"
      ]
     },
     "execution_count": 50,
     "metadata": {},
     "output_type": "execute_result"
    }
   ],
   "source": [
    "tree"
   ]
  },
  {
   "cell_type": "code",
   "execution_count": 18,
   "metadata": {},
   "outputs": [
    {
     "data": {
      "text/plain": [
       "array([[ 16091.27904026,  75078.11346693,  70254.55210179],\n",
       "       [ 16933.49139402,  74708.21915596,  70433.94320195],\n",
       "       [ 13630.45110441,  75313.39957927,  69398.01423642],\n",
       "       ...,\n",
       "       [ 67873.00823922,  38020.16153214, 106829.15605624],\n",
       "       [ 22751.18012114,   2966.37508909,  80768.92115072],\n",
       "       [ 90054.48797793,   2682.86057127,  57382.13781554]])"
      ]
     },
     "execution_count": 18,
     "metadata": {},
     "output_type": "execute_result"
    }
   ],
   "source": [
    "data[:,11:14]"
   ]
  },
  {
   "cell_type": "code",
   "execution_count": 20,
   "metadata": {},
   "outputs": [],
   "source": [
    "np.save(\"pos_tng100\", data[:, 11:14])"
   ]
  },
  {
   "cell_type": "code",
   "execution_count": 19,
   "metadata": {},
   "outputs": [
    {
     "data": {
      "text/plain": [
       "array([[16091.27904026, 75078.11346693, 70254.55210179],\n",
       "       [16933.49139402, 74708.21915596, 70433.94320195],\n",
       "       [15666.449845  , 75361.50977081, 70481.7304676 ],\n",
       "       ...,\n",
       "       [17566.35694614, 25550.31762068, 13498.49262806],\n",
       "       [22866.24265344, 33015.52812223, 53428.26777938],\n",
       "       [ 6594.95405226, 40555.81024413, 15808.85583896]])"
      ]
     },
     "execution_count": 19,
     "metadata": {},
     "output_type": "execute_result"
    }
   ],
   "source": [
    "pos[:,:3]"
   ]
  },
  {
   "cell_type": "code",
   "execution_count": 22,
   "metadata": {},
   "outputs": [],
   "source": [
    "fname = [\"SFR\",\"GasMass\",\"BlackHoleMass\",\"Metallicity\",\"StarMass\",\"DarkMatterMass\",\"VelocityDispersion\",\"VelocityMax\",\n",
    " \"TotalMergerCount\",\"MergerMassRation\",\"MajorMergerCount\",\"SumOfM_R\",\"M_max_R_max\",\"NumberOfLocalhalos\",\"U\", \"B\", \"V\", \"K\", \"g\", \"r\", \"i\", \"z\"]"
   ]
  },
  {
   "cell_type": "code",
   "execution_count": 26,
   "metadata": {},
   "outputs": [
    {
     "data": {
      "text/plain": [
       "22"
      ]
     },
     "execution_count": 26,
     "metadata": {},
     "output_type": "execute_result"
    }
   ],
   "source": [
    "len(fname)"
   ]
  },
  {
   "cell_type": "code",
   "execution_count": 23,
   "metadata": {},
   "outputs": [],
   "source": [
    "try:\n",
    "    del data\n",
    "except NameError:\n",
    "    pass\n",
    "for name in fname:\n",
    "    try:\n",
    "        data = np.c_[data, np.load(\"../_Software/data/TNG100_{}.npy\".format(name))]\n",
    "    except NameError:\n",
    "        data = np.load(\"../_Software/data/TNG100_{}.npy\".format(name))"
   ]
  },
  {
   "cell_type": "code",
   "execution_count": 24,
   "metadata": {},
   "outputs": [
    {
     "data": {
      "text/plain": [
       "(37292, 22)"
      ]
     },
     "execution_count": 24,
     "metadata": {},
     "output_type": "execute_result"
    }
   ],
   "source": [
    "data.shape"
   ]
  },
  {
   "cell_type": "code",
   "execution_count": 27,
   "metadata": {},
   "outputs": [],
   "source": [
    "data = data[data[:,0]>0]\n",
    "data = data[data[:,2]>0]\n",
    "data = data[data[:,3]>0]\n",
    "\n"
   ]
  },
  {
   "cell_type": "code",
   "execution_count": 28,
   "metadata": {},
   "outputs": [
    {
     "data": {
      "text/plain": [
       "(30098, 22)"
      ]
     },
     "execution_count": 28,
     "metadata": {},
     "output_type": "execute_result"
    }
   ],
   "source": [
    "data.shape"
   ]
  },
  {
   "cell_type": "code",
   "execution_count": 30,
   "metadata": {},
   "outputs": [],
   "source": [
    "for i in range(len(fname)):\n",
    "    np.save(\"../_Software/data/TNG100_{}\".format(fname[i]), data[:,i])"
   ]
  },
  {
   "cell_type": "code",
   "execution_count": 2,
   "metadata": {},
   "outputs": [],
   "source": [
    "pos=np.load(\"pos_mass_tng100.npy\")"
   ]
  },
  {
   "cell_type": "code",
   "execution_count": null,
   "metadata": {},
   "outputs": [],
   "source": []
  },
  {
   "cell_type": "code",
   "execution_count": 6,
   "metadata": {},
   "outputs": [],
   "source": [
    "pos=pos[:,:3]"
   ]
  },
  {
   "cell_type": "code",
   "execution_count": 10,
   "metadata": {},
   "outputs": [],
   "source": [
    "fname=[\"x\",\"y\",\"z\"]\n",
    "for i in range(3):\n",
    "    np.save(\"TNG100_{}\".format(fname[i]),pos[:,i])"
   ]
  },
  {
   "cell_type": "code",
   "execution_count": 2,
   "metadata": {},
   "outputs": [],
   "source": [
    "import numpy as np\n",
    "import pandas as pd\n",
    "tree = pd.read_csv(\"result_v3_tng100.csv\")"
   ]
  },
  {
   "cell_type": "code",
   "execution_count": 6,
   "metadata": {},
   "outputs": [
    {
     "data": {
      "text/html": [
       "<div>\n",
       "<style scoped>\n",
       "    .dataframe tbody tr th:only-of-type {\n",
       "        vertical-align: middle;\n",
       "    }\n",
       "\n",
       "    .dataframe tbody tr th {\n",
       "        vertical-align: top;\n",
       "    }\n",
       "\n",
       "    .dataframe thead th {\n",
       "        text-align: right;\n",
       "    }\n",
       "</style>\n",
       "<table border=\"1\" class=\"dataframe\">\n",
       "  <thead>\n",
       "    <tr style=\"text-align: right;\">\n",
       "      <th></th>\n",
       "      <th>m/r</th>\n",
       "      <th>m_max/r</th>\n",
       "      <th>N</th>\n",
       "    </tr>\n",
       "  </thead>\n",
       "  <tbody>\n",
       "    <tr>\n",
       "      <th>0</th>\n",
       "      <td>0.000000e+00</td>\n",
       "      <td>0.000000e+00</td>\n",
       "      <td>0.0</td>\n",
       "    </tr>\n",
       "    <tr>\n",
       "      <th>1</th>\n",
       "      <td>3.233491e+10</td>\n",
       "      <td>1.157793e+10</td>\n",
       "      <td>1.0</td>\n",
       "    </tr>\n",
       "    <tr>\n",
       "      <th>2</th>\n",
       "      <td>6.459194e+09</td>\n",
       "      <td>1.176156e+09</td>\n",
       "      <td>2.0</td>\n",
       "    </tr>\n",
       "    <tr>\n",
       "      <th>3</th>\n",
       "      <td>3.874092e+10</td>\n",
       "      <td>1.174962e+10</td>\n",
       "      <td>1.0</td>\n",
       "    </tr>\n",
       "    <tr>\n",
       "      <th>4</th>\n",
       "      <td>1.770717e+10</td>\n",
       "      <td>3.302154e+09</td>\n",
       "      <td>6.0</td>\n",
       "    </tr>\n",
       "    <tr>\n",
       "      <th>5</th>\n",
       "      <td>4.110334e+10</td>\n",
       "      <td>4.165865e+09</td>\n",
       "      <td>3.0</td>\n",
       "    </tr>\n",
       "    <tr>\n",
       "      <th>6</th>\n",
       "      <td>4.997055e+10</td>\n",
       "      <td>4.389104e+09</td>\n",
       "      <td>7.0</td>\n",
       "    </tr>\n",
       "    <tr>\n",
       "      <th>7</th>\n",
       "      <td>2.994697e+10</td>\n",
       "      <td>3.931811e+09</td>\n",
       "      <td>7.0</td>\n",
       "    </tr>\n",
       "    <tr>\n",
       "      <th>8</th>\n",
       "      <td>5.107925e+10</td>\n",
       "      <td>1.436939e+10</td>\n",
       "      <td>6.0</td>\n",
       "    </tr>\n",
       "    <tr>\n",
       "      <th>9</th>\n",
       "      <td>3.196325e+10</td>\n",
       "      <td>5.474783e+09</td>\n",
       "      <td>4.0</td>\n",
       "    </tr>\n",
       "    <tr>\n",
       "      <th>10</th>\n",
       "      <td>5.457316e+10</td>\n",
       "      <td>5.633561e+09</td>\n",
       "      <td>12.0</td>\n",
       "    </tr>\n",
       "    <tr>\n",
       "      <th>11</th>\n",
       "      <td>2.307694e+10</td>\n",
       "      <td>4.037568e+09</td>\n",
       "      <td>13.0</td>\n",
       "    </tr>\n",
       "    <tr>\n",
       "      <th>12</th>\n",
       "      <td>2.526976e+10</td>\n",
       "      <td>4.008392e+09</td>\n",
       "      <td>14.0</td>\n",
       "    </tr>\n",
       "    <tr>\n",
       "      <th>13</th>\n",
       "      <td>0.000000e+00</td>\n",
       "      <td>0.000000e+00</td>\n",
       "      <td>0.0</td>\n",
       "    </tr>\n",
       "    <tr>\n",
       "      <th>14</th>\n",
       "      <td>2.227062e+10</td>\n",
       "      <td>3.245959e+09</td>\n",
       "      <td>8.0</td>\n",
       "    </tr>\n",
       "    <tr>\n",
       "      <th>15</th>\n",
       "      <td>2.340404e+10</td>\n",
       "      <td>3.176139e+09</td>\n",
       "      <td>13.0</td>\n",
       "    </tr>\n",
       "    <tr>\n",
       "      <th>16</th>\n",
       "      <td>3.982309e+10</td>\n",
       "      <td>5.020826e+09</td>\n",
       "      <td>8.0</td>\n",
       "    </tr>\n",
       "    <tr>\n",
       "      <th>17</th>\n",
       "      <td>4.890083e+10</td>\n",
       "      <td>7.279678e+09</td>\n",
       "      <td>14.0</td>\n",
       "    </tr>\n",
       "    <tr>\n",
       "      <th>18</th>\n",
       "      <td>3.856918e+10</td>\n",
       "      <td>4.194344e+09</td>\n",
       "      <td>14.0</td>\n",
       "    </tr>\n",
       "    <tr>\n",
       "      <th>19</th>\n",
       "      <td>4.794480e+10</td>\n",
       "      <td>4.359882e+09</td>\n",
       "      <td>21.0</td>\n",
       "    </tr>\n",
       "    <tr>\n",
       "      <th>20</th>\n",
       "      <td>2.681355e+08</td>\n",
       "      <td>3.117989e+08</td>\n",
       "      <td>1.0</td>\n",
       "    </tr>\n",
       "    <tr>\n",
       "      <th>21</th>\n",
       "      <td>2.358979e+10</td>\n",
       "      <td>2.889657e+09</td>\n",
       "      <td>10.0</td>\n",
       "    </tr>\n",
       "    <tr>\n",
       "      <th>22</th>\n",
       "      <td>4.661226e+10</td>\n",
       "      <td>4.195853e+09</td>\n",
       "      <td>24.0</td>\n",
       "    </tr>\n",
       "    <tr>\n",
       "      <th>23</th>\n",
       "      <td>4.168479e+10</td>\n",
       "      <td>4.215638e+09</td>\n",
       "      <td>34.0</td>\n",
       "    </tr>\n",
       "    <tr>\n",
       "      <th>24</th>\n",
       "      <td>2.333505e+10</td>\n",
       "      <td>2.805089e+09</td>\n",
       "      <td>9.0</td>\n",
       "    </tr>\n",
       "    <tr>\n",
       "      <th>25</th>\n",
       "      <td>4.657049e+10</td>\n",
       "      <td>4.336467e+09</td>\n",
       "      <td>21.0</td>\n",
       "    </tr>\n",
       "    <tr>\n",
       "      <th>26</th>\n",
       "      <td>2.558489e+10</td>\n",
       "      <td>3.651005e+09</td>\n",
       "      <td>26.0</td>\n",
       "    </tr>\n",
       "    <tr>\n",
       "      <th>27</th>\n",
       "      <td>2.331845e+10</td>\n",
       "      <td>3.239192e+09</td>\n",
       "      <td>32.0</td>\n",
       "    </tr>\n",
       "    <tr>\n",
       "      <th>28</th>\n",
       "      <td>2.531319e+10</td>\n",
       "      <td>3.114131e+09</td>\n",
       "      <td>26.0</td>\n",
       "    </tr>\n",
       "    <tr>\n",
       "      <th>29</th>\n",
       "      <td>4.371207e+10</td>\n",
       "      <td>4.133834e+09</td>\n",
       "      <td>21.0</td>\n",
       "    </tr>\n",
       "    <tr>\n",
       "      <th>...</th>\n",
       "      <td>...</td>\n",
       "      <td>...</td>\n",
       "      <td>...</td>\n",
       "    </tr>\n",
       "    <tr>\n",
       "      <th>4361617</th>\n",
       "      <td>1.530988e+07</td>\n",
       "      <td>1.646163e+07</td>\n",
       "      <td>16.0</td>\n",
       "    </tr>\n",
       "    <tr>\n",
       "      <th>4361618</th>\n",
       "      <td>9.324856e+06</td>\n",
       "      <td>2.229579e+06</td>\n",
       "      <td>19.0</td>\n",
       "    </tr>\n",
       "    <tr>\n",
       "      <th>4361619</th>\n",
       "      <td>2.062580e-69</td>\n",
       "      <td>7.018597e-31</td>\n",
       "      <td>2.0</td>\n",
       "    </tr>\n",
       "    <tr>\n",
       "      <th>4361620</th>\n",
       "      <td>1.391624e-146</td>\n",
       "      <td>1.611391e-69</td>\n",
       "      <td>1.0</td>\n",
       "    </tr>\n",
       "    <tr>\n",
       "      <th>4361621</th>\n",
       "      <td>1.558619e-146</td>\n",
       "      <td>1.804758e-69</td>\n",
       "      <td>1.0</td>\n",
       "    </tr>\n",
       "    <tr>\n",
       "      <th>4361622</th>\n",
       "      <td>1.998125e-69</td>\n",
       "      <td>6.799266e-31</td>\n",
       "      <td>2.0</td>\n",
       "    </tr>\n",
       "    <tr>\n",
       "      <th>4361623</th>\n",
       "      <td>5.682232e+06</td>\n",
       "      <td>2.155096e+05</td>\n",
       "      <td>19.0</td>\n",
       "    </tr>\n",
       "    <tr>\n",
       "      <th>4361624</th>\n",
       "      <td>8.554428e+06</td>\n",
       "      <td>1.212659e+06</td>\n",
       "      <td>21.0</td>\n",
       "    </tr>\n",
       "    <tr>\n",
       "      <th>4361625</th>\n",
       "      <td>5.322145e+06</td>\n",
       "      <td>8.405174e+05</td>\n",
       "      <td>14.0</td>\n",
       "    </tr>\n",
       "    <tr>\n",
       "      <th>4361626</th>\n",
       "      <td>5.885934e+06</td>\n",
       "      <td>2.812646e+05</td>\n",
       "      <td>17.0</td>\n",
       "    </tr>\n",
       "    <tr>\n",
       "      <th>4361627</th>\n",
       "      <td>4.622273e+06</td>\n",
       "      <td>4.738072e+05</td>\n",
       "      <td>12.0</td>\n",
       "    </tr>\n",
       "    <tr>\n",
       "      <th>4361628</th>\n",
       "      <td>4.113224e+06</td>\n",
       "      <td>2.466779e+05</td>\n",
       "      <td>13.0</td>\n",
       "    </tr>\n",
       "    <tr>\n",
       "      <th>4361629</th>\n",
       "      <td>5.159846e+06</td>\n",
       "      <td>1.997866e+05</td>\n",
       "      <td>9.0</td>\n",
       "    </tr>\n",
       "    <tr>\n",
       "      <th>4361630</th>\n",
       "      <td>6.188063e+06</td>\n",
       "      <td>3.335993e+05</td>\n",
       "      <td>25.0</td>\n",
       "    </tr>\n",
       "    <tr>\n",
       "      <th>4361631</th>\n",
       "      <td>7.544196e+06</td>\n",
       "      <td>2.923405e+05</td>\n",
       "      <td>21.0</td>\n",
       "    </tr>\n",
       "    <tr>\n",
       "      <th>4361632</th>\n",
       "      <td>1.043601e+07</td>\n",
       "      <td>2.938521e+05</td>\n",
       "      <td>33.0</td>\n",
       "    </tr>\n",
       "    <tr>\n",
       "      <th>4361633</th>\n",
       "      <td>1.056642e+07</td>\n",
       "      <td>2.474160e+05</td>\n",
       "      <td>31.0</td>\n",
       "    </tr>\n",
       "    <tr>\n",
       "      <th>4361634</th>\n",
       "      <td>9.877200e+06</td>\n",
       "      <td>2.007106e+05</td>\n",
       "      <td>10.0</td>\n",
       "    </tr>\n",
       "    <tr>\n",
       "      <th>4361635</th>\n",
       "      <td>9.282717e+06</td>\n",
       "      <td>2.425620e+05</td>\n",
       "      <td>22.0</td>\n",
       "    </tr>\n",
       "    <tr>\n",
       "      <th>4361636</th>\n",
       "      <td>1.181009e+07</td>\n",
       "      <td>6.016115e+05</td>\n",
       "      <td>18.0</td>\n",
       "    </tr>\n",
       "    <tr>\n",
       "      <th>4361637</th>\n",
       "      <td>1.627701e+07</td>\n",
       "      <td>1.927611e+05</td>\n",
       "      <td>21.0</td>\n",
       "    </tr>\n",
       "    <tr>\n",
       "      <th>4361638</th>\n",
       "      <td>9.514717e+06</td>\n",
       "      <td>4.848168e+05</td>\n",
       "      <td>23.0</td>\n",
       "    </tr>\n",
       "    <tr>\n",
       "      <th>4361639</th>\n",
       "      <td>8.167415e+06</td>\n",
       "      <td>5.924258e+05</td>\n",
       "      <td>30.0</td>\n",
       "    </tr>\n",
       "    <tr>\n",
       "      <th>4361640</th>\n",
       "      <td>6.896523e+06</td>\n",
       "      <td>3.409917e+05</td>\n",
       "      <td>30.0</td>\n",
       "    </tr>\n",
       "    <tr>\n",
       "      <th>4361641</th>\n",
       "      <td>1.125632e+07</td>\n",
       "      <td>6.918136e+06</td>\n",
       "      <td>28.0</td>\n",
       "    </tr>\n",
       "    <tr>\n",
       "      <th>4361642</th>\n",
       "      <td>1.895366e+06</td>\n",
       "      <td>4.031594e+05</td>\n",
       "      <td>4.0</td>\n",
       "    </tr>\n",
       "    <tr>\n",
       "      <th>4361643</th>\n",
       "      <td>5.471337e+06</td>\n",
       "      <td>2.896826e+05</td>\n",
       "      <td>26.0</td>\n",
       "    </tr>\n",
       "    <tr>\n",
       "      <th>4361644</th>\n",
       "      <td>0.000000e+00</td>\n",
       "      <td>0.000000e+00</td>\n",
       "      <td>0.0</td>\n",
       "    </tr>\n",
       "    <tr>\n",
       "      <th>4361645</th>\n",
       "      <td>4.427796e+06</td>\n",
       "      <td>2.381121e+05</td>\n",
       "      <td>15.0</td>\n",
       "    </tr>\n",
       "    <tr>\n",
       "      <th>4361646</th>\n",
       "      <td>0.000000e+00</td>\n",
       "      <td>0.000000e+00</td>\n",
       "      <td>0.0</td>\n",
       "    </tr>\n",
       "  </tbody>\n",
       "</table>\n",
       "<p>4361647 rows × 3 columns</p>\n",
       "</div>"
      ],
      "text/plain": [
       "                   m/r       m_max/r     N\n",
       "0         0.000000e+00  0.000000e+00   0.0\n",
       "1         3.233491e+10  1.157793e+10   1.0\n",
       "2         6.459194e+09  1.176156e+09   2.0\n",
       "3         3.874092e+10  1.174962e+10   1.0\n",
       "4         1.770717e+10  3.302154e+09   6.0\n",
       "5         4.110334e+10  4.165865e+09   3.0\n",
       "6         4.997055e+10  4.389104e+09   7.0\n",
       "7         2.994697e+10  3.931811e+09   7.0\n",
       "8         5.107925e+10  1.436939e+10   6.0\n",
       "9         3.196325e+10  5.474783e+09   4.0\n",
       "10        5.457316e+10  5.633561e+09  12.0\n",
       "11        2.307694e+10  4.037568e+09  13.0\n",
       "12        2.526976e+10  4.008392e+09  14.0\n",
       "13        0.000000e+00  0.000000e+00   0.0\n",
       "14        2.227062e+10  3.245959e+09   8.0\n",
       "15        2.340404e+10  3.176139e+09  13.0\n",
       "16        3.982309e+10  5.020826e+09   8.0\n",
       "17        4.890083e+10  7.279678e+09  14.0\n",
       "18        3.856918e+10  4.194344e+09  14.0\n",
       "19        4.794480e+10  4.359882e+09  21.0\n",
       "20        2.681355e+08  3.117989e+08   1.0\n",
       "21        2.358979e+10  2.889657e+09  10.0\n",
       "22        4.661226e+10  4.195853e+09  24.0\n",
       "23        4.168479e+10  4.215638e+09  34.0\n",
       "24        2.333505e+10  2.805089e+09   9.0\n",
       "25        4.657049e+10  4.336467e+09  21.0\n",
       "26        2.558489e+10  3.651005e+09  26.0\n",
       "27        2.331845e+10  3.239192e+09  32.0\n",
       "28        2.531319e+10  3.114131e+09  26.0\n",
       "29        4.371207e+10  4.133834e+09  21.0\n",
       "...                ...           ...   ...\n",
       "4361617   1.530988e+07  1.646163e+07  16.0\n",
       "4361618   9.324856e+06  2.229579e+06  19.0\n",
       "4361619   2.062580e-69  7.018597e-31   2.0\n",
       "4361620  1.391624e-146  1.611391e-69   1.0\n",
       "4361621  1.558619e-146  1.804758e-69   1.0\n",
       "4361622   1.998125e-69  6.799266e-31   2.0\n",
       "4361623   5.682232e+06  2.155096e+05  19.0\n",
       "4361624   8.554428e+06  1.212659e+06  21.0\n",
       "4361625   5.322145e+06  8.405174e+05  14.0\n",
       "4361626   5.885934e+06  2.812646e+05  17.0\n",
       "4361627   4.622273e+06  4.738072e+05  12.0\n",
       "4361628   4.113224e+06  2.466779e+05  13.0\n",
       "4361629   5.159846e+06  1.997866e+05   9.0\n",
       "4361630   6.188063e+06  3.335993e+05  25.0\n",
       "4361631   7.544196e+06  2.923405e+05  21.0\n",
       "4361632   1.043601e+07  2.938521e+05  33.0\n",
       "4361633   1.056642e+07  2.474160e+05  31.0\n",
       "4361634   9.877200e+06  2.007106e+05  10.0\n",
       "4361635   9.282717e+06  2.425620e+05  22.0\n",
       "4361636   1.181009e+07  6.016115e+05  18.0\n",
       "4361637   1.627701e+07  1.927611e+05  21.0\n",
       "4361638   9.514717e+06  4.848168e+05  23.0\n",
       "4361639   8.167415e+06  5.924258e+05  30.0\n",
       "4361640   6.896523e+06  3.409917e+05  30.0\n",
       "4361641   1.125632e+07  6.918136e+06  28.0\n",
       "4361642   1.895366e+06  4.031594e+05   4.0\n",
       "4361643   5.471337e+06  2.896826e+05  26.0\n",
       "4361644   0.000000e+00  0.000000e+00   0.0\n",
       "4361645   4.427796e+06  2.381121e+05  15.0\n",
       "4361646   0.000000e+00  0.000000e+00   0.0\n",
       "\n",
       "[4361647 rows x 3 columns]"
      ]
     },
     "execution_count": 6,
     "metadata": {},
     "output_type": "execute_result"
    }
   ],
   "source": [
    "tree"
   ]
  },
  {
   "cell_type": "code",
   "execution_count": 5,
   "metadata": {},
   "outputs": [
    {
     "data": {
      "text/plain": [
       "(4361647, 3)"
      ]
     },
     "execution_count": 5,
     "metadata": {},
     "output_type": "execute_result"
    }
   ],
   "source": [
    "np.array(tree).shape\n",
    "4361647"
   ]
  }
 ],
 "metadata": {
  "kernelspec": {
   "display_name": "Python 3",
   "language": "python",
   "name": "python3"
  },
  "language_info": {
   "codemirror_mode": {
    "name": "ipython",
    "version": 3
   },
   "file_extension": ".py",
   "mimetype": "text/x-python",
   "name": "python",
   "nbconvert_exporter": "python",
   "pygments_lexer": "ipython3",
   "version": "3.6.5"
  }
 },
 "nbformat": 4,
 "nbformat_minor": 4
}
